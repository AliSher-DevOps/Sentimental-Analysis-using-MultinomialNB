{
 "cells": [
  {
   "cell_type": "code",
   "execution_count": 1,
   "metadata": {},
   "outputs": [
    {
     "name": "stdout",
     "output_type": "stream",
     "text": [
      "0      privacy least put option appear offline mean p...\n",
      "1      messenger issue ever since last update initial...\n",
      "2      profile time wife anybody one post view would ...\n",
      "3      new feature suck work back button guy make vid...\n",
      "4      force reload upload pic reply comment last nig...\n",
      "                             ...                        \n",
      "886    love loooooooooooooovvved incredible awesome g...\n",
      "887    time legendary game birthday party level short...\n",
      "888    ad way heavy listen bad review ad every round ...\n",
      "889    fun work perfectly well ad annoy think especia...\n",
      "890    they're everywhere see angry bird everywhere c...\n",
      "Name: review_clean, Length: 891, dtype: object\n"
     ]
    },
    {
     "data": {
      "text/plain": [
       "['finalized_model.sav']"
      ]
     },
     "execution_count": 1,
     "metadata": {},
     "output_type": "execute_result"
    }
   ],
   "source": [
    "import pandas as pd\n",
    "import string\n",
    "import numpy as np\n",
    "from nltk import pos_tag\n",
    "from nltk.corpus import stopwords\n",
    "from nltk.tokenize import WhitespaceTokenizer\n",
    "from nltk.stem import WordNetLemmatizer\n",
    "from nltk.corpus import wordnet\n",
    "from sklearn.model_selection import train_test_split\n",
    "from sklearn.feature_extraction.text import CountVectorizer\n",
    "from sklearn.naive_bayes import MultinomialNB\n",
    "import joblib\n",
    "\n",
    "data = pd.read_csv('google_play_store_apps_reviews_training.csv')\n",
    "\n",
    "def get_wordnet_pos(pos_tag):\n",
    "    if pos_tag.startswith('J'):\n",
    "        return wordnet.ADJ\n",
    "    elif pos_tag.startswith('V'):\n",
    "        return wordnet.VERB\n",
    "    elif pos_tag.startswith('N'):\n",
    "        return wordnet.NOUN\n",
    "    elif pos_tag.startswith('R'):\n",
    "        return wordnet.ADV\n",
    "    else:\n",
    "        return wordnet.NOUN\n",
    "    \n",
    "\n",
    "def clean_text(text):\n",
    "    # lower text\n",
    "    text = text.lower()\n",
    "    # tokenize text and remove puncutation\n",
    "    text = [word.strip(string.punctuation) for word in text.split(\" \")]\n",
    "    # remove words that contain numbers\n",
    "    text = [word for word in text if not any(c.isdigit() for c in word)]\n",
    "    # remove stop words\n",
    "    stop = stopwords.words('english')\n",
    "    text = [x for x in text if x not in stop]\n",
    "    # remove empty tokens\n",
    "    text = [t for t in text if len(t) > 0]\n",
    "    # pos tag text\n",
    "    pos_tags = pos_tag(text)\n",
    "    # lemmatize text\n",
    "    text = [WordNetLemmatizer().lemmatize(t[0], get_wordnet_pos(t[1])) for t in pos_tags]\n",
    "    # remove words with only one letter\n",
    "    text = [t for t in text if len(t) > 1]\n",
    "    # join all\n",
    "    text = \" \".join(text)\n",
    "    return(text)\n",
    "data['review_clean'] = data['review'].apply(lambda x: clean_text(x))\n",
    "# Split into training and testing data\n",
    "x = data['review_clean']\n",
    "y = data['polarity']\n",
    "print(x)\n",
    "x, x_test, y, y_test = train_test_split(x,y, stratify=y, test_size=0.25, random_state=3)\n",
    "# Vectorize text reviews to numbers\n",
    "vec = CountVectorizer(stop_words='english')\n",
    "x = vec.fit_transform(x).toarray()\n",
    "x_test = vec.transform(x_test).toarray()\n",
    "model = MultinomialNB()\n",
    "model.fit(x, y)\n",
    "model.score(x_test, y_test)\n",
    "filename = 'finalized_model.sav'\n",
    "joblib.dump(model, filename) \n"
   ]
  },
  {
   "cell_type": "code",
   "execution_count": 277,
   "metadata": {},
   "outputs": [
    {
     "name": "stdout",
     "output_type": "stream",
     "text": [
      "0.8295964125560538\n"
     ]
    }
   ],
   "source": [
    "\n",
    "loaded_model = joblib.load(filename)\n",
    "result = loaded_model.score(x_test, y_test)\n",
    "print(result)\n"
   ]
  },
  {
   "cell_type": "code",
   "execution_count": null,
   "metadata": {},
   "outputs": [],
   "source": [
    "#### df_coc = pd.read_csv('reviews.csv')\n",
    "df_coc['review_clean'] = df_coc['Content'].apply(lambda x: clean_text(x))\n"
   ]
  },
  {
   "cell_type": "code",
   "execution_count": null,
   "metadata": {},
   "outputs": [],
   "source": [
    "\n",
    "pos = 0\n",
    "neg = 0\n",
    "total = 0\n",
    "def cal_sentiment_polarity(text):\n",
    "    sentiment = \" \"\n",
    "    global  pos \n",
    "    global  neg \n",
    "    result = loaded_model.predict(vec.transform([text]))\n",
    "    if(result == 1):\n",
    "        sentiment = \"Positive\"\n",
    "        pos = pos + 1\n",
    "    elif(result == 0):\n",
    "        sentiment = \"Negative\"\n",
    "        neg = neg + 1\n",
    "    return sentiment\n",
    "df = pd.DataFrame({\n",
    "    'Uid': list(df_coc.index.values),\n",
    "    'Reviews': df_coc['review_clean'],       \n",
    "    'Polarity': [cal_sentiment_polarity(x) for x in df_coc['review_clean']],\n",
    "    \n",
    "})\n",
    "total = pos + neg\n",
    "print(\"Total Numbers of Reviews\" , total)\n",
    "print(\"Positive Reviews \",pos)\n",
    "print(\"Negative Reviews \" ,neg)\n",
    "df.to_csv(\"sentiment_result1.csv\", encoding='utf8', index=False)\n",
    "df.head(56)\n",
    "\n"
   ]
  },
  {
   "cell_type": "code",
   "execution_count": null,
   "metadata": {},
   "outputs": [],
   "source": [
    "import numpy as np\n",
    "import matplotlib.pyplot as plt \n",
    "labels = ['Postive','Negative'] \n",
    "data = [pos,neg] \n",
    "fig = plt.figure(figsize = (10,5)) \n",
    "colors = ['green','orange']\n",
    "plt.subplot( title='Sentimental Analysis ')\n",
    "plt.pie(data, labels=labels, colors=colors, autopct='%1.2f%%', startangle=90) \n",
    "plt.axis(\"equal\")\n",
    "plt.show()"
   ]
  },
  {
   "cell_type": "code",
   "execution_count": null,
   "metadata": {},
   "outputs": [],
   "source": [
    "from wordcloud import WordCloud\n",
    "import matplotlib.pyplot as plt\n",
    "def show_wordcloud(data, title = None):\n",
    "    wordcloud = WordCloud(\n",
    "        background_color = 'white',\n",
    "        max_words = 500,\n",
    "        max_font_size = 20, \n",
    "        scale = 3,\n",
    "        random_state = 42\n",
    "    ).generate(str(data))\n",
    "\n",
    "    fig = plt.figure(1, figsize = (20, 20))\n",
    "    plt.axis('on')\n",
    "    if title: \n",
    "        fig.suptitle(title, fontsize = 20)\n",
    "        fig.subplots_adjust(top = 2.3)\n",
    "\n",
    "    plt.imshow(wordcloud)\n",
    "    plt.show()\n",
    "    \n",
    "# print wordcloud\n",
    "show_wordcloud(df_coc['review_clean'])"
   ]
  },
  {
   "cell_type": "code",
   "execution_count": 69,
   "metadata": {},
   "outputs": [
    {
     "name": "stdout",
     "output_type": "stream",
     "text": [
      "(37427,)\n",
      "(37427,)\n"
     ]
    }
   ],
   "source": [
    "df = pd.read_csv('sentiment12.csv')\n",
    "#x, y = df.Translated_Review.fillna(''), df.Sentiment_Polarity\n",
    "#print(x.shape)\n",
    "#print(y.shape)\n",
    "#df.replace([np.inf, -np.inf], np.nan, inplace=True)\n",
    "#import pandas as pd\n",
    "#import numpy as np\n",
    "\n",
    "\n",
    "#dfs = pd.DataFrame(df)\n",
    "\n",
    "\n",
    "# drop all rows with any NaN and NaT values\n",
    "#df1 = dfs.dropna()\n",
    "#df1.head(50)\n",
    "x, y = df.text.fillna(''), df.label\n",
    "print(x.shape)\n",
    "print(y.shape)"
   ]
  },
  {
   "cell_type": "code",
   "execution_count": 70,
   "metadata": {},
   "outputs": [
    {
     "name": "stdout",
     "output_type": "stream",
     "text": [
      "(28070,)\n",
      "(9357,)\n",
      "(28070,)\n",
      "(9357,)\n"
     ]
    }
   ],
   "source": [
    "\n",
    "\n",
    "from sklearn.model_selection import train_test_split\n",
    "x, x_test, y_train, y_test = train_test_split(x, y, random_state=1)\n",
    "print(x.shape)\n",
    "print(x_test.shape)\n",
    "print(y_train.shape)\n",
    "print(y_test.shape)"
   ]
  },
  {
   "cell_type": "code",
   "execution_count": 71,
   "metadata": {},
   "outputs": [
    {
     "data": {
      "text/plain": [
       "0.8298599978625628"
      ]
     },
     "execution_count": 71,
     "metadata": {},
     "output_type": "execute_result"
    }
   ],
   "source": [
    "vec = CountVectorizer()\n",
    "x = vec.fit_transform(x).toarray()\n",
    "x_test = vec.transform(x_test).toarray()\n",
    "model = MultinomialNB()\n",
    "model.fit(x, y_train)\n",
    "model.score(x_test, y_test)\n"
   ]
  },
  {
   "cell_type": "code",
   "execution_count": 68,
   "metadata": {},
   "outputs": [
    {
     "data": {
      "text/plain": [
       "array([0], dtype=int64)"
      ]
     },
     "execution_count": 68,
     "metadata": {},
     "output_type": "execute_result"
    }
   ],
   "source": [
    "model.predict(vec.transform([' i hate this app because of too much adds ']))\n"
   ]
  },
  {
   "cell_type": "code",
   "execution_count": null,
   "metadata": {},
   "outputs": [],
   "source": [
    "\n"
   ]
  },
  {
   "cell_type": "code",
   "execution_count": null,
   "metadata": {},
   "outputs": [],
   "source": []
  }
 ],
 "metadata": {
  "kernelspec": {
   "display_name": "Python 3",
   "language": "python",
   "name": "python3"
  },
  "language_info": {
   "codemirror_mode": {
    "name": "ipython",
    "version": 3
   },
   "file_extension": ".py",
   "mimetype": "text/x-python",
   "name": "python",
   "nbconvert_exporter": "python",
   "pygments_lexer": "ipython3",
   "version": "3.7.6"
  }
 },
 "nbformat": 4,
 "nbformat_minor": 4
}
